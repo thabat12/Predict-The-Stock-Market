{
 "cells": [
  {
   "cell_type": "code",
   "execution_count": null,
   "id": "f32bcfdc-404a-4f20-a220-f5acc6e612ff",
   "metadata": {},
   "outputs": [],
   "source": [
    "import pandas as pd\n",
    "from sklearn.model_selection import train_test_split\n",
    "from sklearn.preprocessing import StandardScaler\n",
    "from sklearn.linear_model import LogisticRegression\n",
    "from sklearn.tree import DecisionTreeClassifier\n",
    "from sklearn.neighbors import KNeighborsClassifier\n",
    "from sklearn.svm import SVC\n",
    "from sklearn.ensemble import RandomForestClassifier, StackingClassifier\n",
    "from sklearn.neural_network import MLPClassifier\n",
    "from sklearn.metrics import accuracy_score, precision_score, recall_score, f1_score, classification_report, confusion_matrix\n",
    "from sklearn.model_selection import cross_val_score, train_test_split\n",
    "from sklearn.model_selection import GridSearchCV"
   ]
  },
  {
   "cell_type": "code",
   "execution_count": 20,
   "id": "ce4f7942-7092-431c-ba09-117f64efcf54",
   "metadata": {},
   "outputs": [],
   "source": [
    "# Prepare features (X) and target (y) from raw data.\n",
    "\n",
    "#     Args:\n",
    "#         data (DataFrame): The raw dataset as a Pandas DataFrame.\n",
    "#         target_column (str): The name of the target column.\n",
    "\n",
    "#     Returns:\n",
    "#         X (DataFrame): Features.\n",
    "#         y (Series): Target."
   ]
  },
  {
   "cell_type": "code",
   "execution_count": 2,
   "id": "0c88f711-7183-4dac-b406-3eb644612663",
   "metadata": {},
   "outputs": [],
   "source": [
    "def load_data(file_path, target_column=\"target\"):\n",
    "    data = pd.read_csv(file_path)  # Use file_path to read the dataset\n",
    "    X = data.drop(columns=[target_column])\n",
    "    y = data[target_column]\n",
    "    return X, y"
   ]
  },
  {
   "cell_type": "code",
   "execution_count": 22,
   "id": "840a6322-a023-47e1-bf7b-8ccb900b5550",
   "metadata": {},
   "outputs": [],
   "source": [
    "# Scale features using StandardScaler.\n",
    "#     Args:\n",
    "#         X_train (DataFrame): Training features.\n",
    "#         X_test (DataFrame): Testing features.\n",
    "\n",
    "#     Returns:\n",
    "#         X_train_scaled (DataFrame): Scaled training features.\n",
    "#         X_test_scaled (DataFrame): Scaled testing features.\n",
    "#     \"\"\""
   ]
  },
  {
   "cell_type": "code",
   "execution_count": 3,
   "id": "7e229133-cbd1-4328-b0b7-2a04738def2e",
   "metadata": {},
   "outputs": [],
   "source": [
    "def preprocess_data(X_train, X_test):\n",
    "    scaler = StandardScaler()\n",
    "    X_train_scaled = scaler.fit_transform(X_train)\n",
    "    X_test_scaled = scaler.transform(X_test)\n",
    "    return X_train_scaled, X_test_scaled"
   ]
  },
  {
   "cell_type": "code",
   "execution_count": null,
   "id": "aafebb43",
   "metadata": {},
   "outputs": [],
   "source": [
    "# Evaluation function with metrics to analyze any trained model\n",
    "# Prints, confusion matrix, accuracy, precision, recall, f1 score, and other classification report metrics"
   ]
  },
  {
   "cell_type": "code",
   "execution_count": null,
   "id": "78a7c0c8",
   "metadata": {},
   "outputs": [],
   "source": [
    "def evaluate_predictions(y_true, y_pred):\n",
    "    # Print confusion matrix\n",
    "    cm = confusion_matrix(y_true, y_pred)\n",
    "    print(\"Confusion Matrix:\")\n",
    "    print(cm)\n",
    "\n",
    "    # Print accuracy\n",
    "    accuracy = accuracy_score(y_true, y_pred)\n",
    "    print(f\"Accuracy: {accuracy:.4f}\")\n",
    "\n",
    "    # Print classification report\n",
    "    print(\"Classification Report:\")\n",
    "    print(classification_report(y_true, y_pred, zero_division=0))"
   ]
  },
  {
   "cell_type": "code",
   "execution_count": 24,
   "id": "49221266-3b71-47b8-935d-6654da68154c",
   "metadata": {},
   "outputs": [],
   "source": [
    "# Train and evaluate a Logistic Regression model."
   ]
  },
  {
   "cell_type": "code",
   "execution_count": 4,
   "id": "f67726a2-3cf6-403d-a971-e1971ac759ae",
   "metadata": {},
   "outputs": [],
   "source": [
    "def train_logistic_regression(X_train, y_train, X_test, y_test):\n",
    "    lr = LogisticRegression()\n",
    "    lr.fit(X_train, y_train)\n",
    "    predictions = lr.predict(X_test)\n",
    "    accuracy = accuracy_score(y_test, predictions)\n",
    "    print(\"Logistic Regression Accuracy:\", accuracy)\n",
    "    print(classification_report(y_test, predictions))\n",
    "    return accuracy"
   ]
  },
  {
   "cell_type": "code",
   "execution_count": null,
   "id": "dd2a3003",
   "metadata": {},
   "outputs": [],
   "source": [
    "# Return the best decision tree by using GridSearchCV to get best max_depth, min_samples_leaf, and max_features"
   ]
  },
  {
   "cell_type": "code",
   "execution_count": null,
   "id": "0593f9d8",
   "metadata": {},
   "outputs": [],
   "source": [
    "def get_best_decision_tree(X_train, y_train):\n",
    "\n",
    "    dt = DecisionTreeClassifier(random_state=42)\n",
    "    \n",
    "    param_grid = {\n",
    "        'max_depth': [5, 10, 15, 20],\n",
    "        'min_samples_leaf': [5, 10, 15, 20],\n",
    "        'max_features': [5, 10, 15]\n",
    "    }\n",
    "    grid_search = GridSearchCV(estimator=dt, param_grid=param_grid, cv=5, scoring='accuracy', verbose=1)\n",
    "    grid_search.fit(X_train, y_train)\n",
    "    \n",
    "    best_dt = grid_search.best_estimator_    \n",
    "    return best_dt"
   ]
  },
  {
   "cell_type": "code",
   "execution_count": 26,
   "id": "75f2d888-cfdc-4e34-921c-03e46f1004d0",
   "metadata": {},
   "outputs": [],
   "source": [
    "# Train and evaluate a Decision Tree model."
   ]
  },
  {
   "cell_type": "code",
   "execution_count": 5,
   "id": "ae8eb304-0c64-401a-970e-f7d08d18f926",
   "metadata": {},
   "outputs": [],
   "source": [
    "def train_decision_tree(X_train, y_train, X_test, y_test):\n",
    "    dt = get_best_decision_tree(X_train, y_train)\n",
    "    dt.fit(X_train, y_train)\n",
    "    predictions = dt.predict(X_test)\n",
    "    accuracy = accuracy_score(y_test, predictions)\n",
    "    evaluate_predictions(y_test, predictions)\n",
    "    return accuracy"
   ]
  },
  {
   "cell_type": "code",
   "execution_count": null,
   "id": "5e9038fa-588b-4e62-98d4-3a13ea8297f2",
   "metadata": {},
   "outputs": [],
   "source": [
    "# Return the best KNN model by using GridSearchCV to get best K value and best weightage"
   ]
  },
  {
   "cell_type": "code",
   "execution_count": null,
   "id": "3eab7f5b",
   "metadata": {},
   "outputs": [],
   "source": [
    "def get_best_knn(X_train, y_train):\n",
    "    knn = KNeighborsClassifier(n_neighbors=min(5, len(X_train)))\n",
    "    param_grid = {\n",
    "        'n_neighbors': range(1, min(10, len(X_train)) + 1),\n",
    "        'weights': ['uniform', 'distance'],\n",
    "    }\n",
    "    grid_search = GridSearchCV(estimator=knn, param_grid=param_grid, cv=5, scoring='accuracy', verbose=1)\n",
    "    grid_search.fit(X_train, y_train)\n",
    "    best_knn = grid_search.best_estimator_\n",
    "    return best_knn"
   ]
  },
  {
   "cell_type": "code",
   "execution_count": null,
   "id": "7fa0623e",
   "metadata": {},
   "outputs": [],
   "source": [
    "# Train and evaluate a K-Nearest Neighbors (KNN) model. \n",
    "# Enhanced by using Grid Search CV to choose the best K value."
   ]
  },
  {
   "cell_type": "code",
   "execution_count": null,
   "id": "6ad92c00-bd63-4152-8097-a1371fee7c5f",
   "metadata": {},
   "outputs": [],
   "source": [
    "def train_knn(X_train, y_train, X_test, y_test):\n",
    "    best_knn = get_best_knn(X_train, y_train)\n",
    "    predictions = best_knn.predict(X_test)\n",
    "    accuracy = accuracy_score(y_test, predictions)\n",
    "    evaluate_predictions(y_test, predictions)\n",
    "    return accuracy\n"
   ]
  },
  {
   "cell_type": "code",
   "execution_count": null,
   "id": "d54dbd6c",
   "metadata": {},
   "outputs": [],
   "source": [
    "def get_best_svm(X_train, y_train):\n",
    "    svm = SVC(random_state=42)\n",
    "    param_grid = {\n",
    "        'C': [0.1, 1, 10, 100],\n",
    "        'kernel': ['linear', 'rbf', 'poly'],\n",
    "        'gamma': ['scale', 'auto'],\n",
    "        'degree': [3, 4, 5]  # Only used for 'poly' kernel\n",
    "    }\n",
    "    grid_search = GridSearchCV(estimator=svm, param_grid=param_grid, cv=5, scoring='accuracy', verbose=1, n_jobs=-1)\n",
    "    grid_search.fit(X_train, y_train)\n",
    "    best_svm = grid_search.best_estimator_   \n",
    "    return best_svm"
   ]
  },
  {
   "cell_type": "code",
   "execution_count": null,
   "id": "443c2eff",
   "metadata": {},
   "outputs": [],
   "source": [
    "def train_svm(X_train, y_train, X_test, y_test):\n",
    "    best_svm = get_best_svm(X_train, y_train)\n",
    "    predictions = best_svm.predict(X_test)\n",
    "    accuracy = accuracy_score(y_test, predictions)\n",
    "    evaluate_predictions(y_test, predictions)\n",
    "    return accuracy"
   ]
  },
  {
   "cell_type": "code",
   "execution_count": null,
   "id": "8ab2e941",
   "metadata": {},
   "outputs": [],
   "source": [
    "def train_knn_svm_ensemble(X_train, y_train, X_test, y_test):\n",
    "    best_knn = get_best_knn(X_train, y_train)\n",
    "    best_svm = get_best_svm(X_train, y_train)\n",
    "    base_learners = [\n",
    "        ('knn', best_knn),\n",
    "    ]\n",
    "    \n",
    "    ensemble_model = StackingClassifier(estimators=base_learners, final_estimator=best_svm)\n",
    "    ensemble_model.fit(X_train, y_train)\n",
    "    predictions = ensemble_model.predict(X_test)\n",
    "    \n",
    "    accuracy = accuracy_score(y_test, predictions)\n",
    "    evaluate_predictions(y_test, predictions)\n",
    "    \n",
    "    return accuracy"
   ]
  },
  {
   "cell_type": "code",
   "execution_count": null,
   "id": "95cd34b6",
   "metadata": {},
   "outputs": [],
   "source": [
    "def get_best_random_forest(X_train, y_train):\n",
    "    rf = RandomForestClassifier(random_state=42)\n",
    "    param_grid = {\n",
    "        'n_estimators': [50, 100, 150],\n",
    "        'max_depth': [10, 20, 30, None],\n",
    "        'min_samples_split': [2, 5, 10],\n",
    "        'min_samples_leaf': [1, 2, 4],\n",
    "        'bootstrap': [True, False]\n",
    "    }    \n",
    "    grid_search = GridSearchCV(estimator=rf, param_grid=param_grid, cv=5, scoring='accuracy', verbose=1, n_jobs=-1)\n",
    "    grid_search.fit(X_train, y_train)\n",
    "    best_rf = grid_search.best_estimator_    \n",
    "    return best_rf"
   ]
  },
  {
   "cell_type": "code",
   "execution_count": null,
   "id": "20fcb864",
   "metadata": {},
   "outputs": [],
   "source": [
    "def train_random_forest(X_train, y_train, X_test, y_test):\n",
    "    rf = get_best_random_forest(X_train, y_train)\n",
    "    predictions = rf.predict(X_test)\n",
    "    accuracy = accuracy_score(y_test, predictions)\n",
    "    evaluate_predictions(y_test, predictions)\n",
    "    return accuracy"
   ]
  },
  {
   "cell_type": "code",
   "execution_count": null,
   "id": "81c82251",
   "metadata": {},
   "outputs": [],
   "source": [
    "def get_best_mlp(X_train, y_train):\n",
    "    mlp = MLPClassifier(random_state=42)\n",
    "    param_grid = {\n",
    "        'hidden_layer_sizes': [(50,), (100,), (50, 50), (100, 100)],\n",
    "        'activation': ['relu', 'tanh'],\n",
    "        'learning_rate': ['constant', 'adaptive'],\n",
    "        'max_iter': [200, 300]\n",
    "    }\n",
    "    grid_search = GridSearchCV(estimator=mlp, param_grid=param_grid, cv=5, scoring='accuracy', verbose=1, n_jobs=-1)\n",
    "    grid_search.fit(X_train, y_train)\n",
    "    best_mlp = grid_search.best_estimator_\n",
    "    print(\"Best Parameters for MLP:\", grid_search.best_params_)\n",
    "    return best_mlp"
   ]
  },
  {
   "cell_type": "code",
   "execution_count": null,
   "id": "85dac00b",
   "metadata": {},
   "outputs": [],
   "source": [
    "def train_mlp(X_train, y_train, X_test, y_test):\n",
    "    best_mlp = get_best_mlp(X_train, y_train)\n",
    "    predictions = best_mlp.predict(X_test)\n",
    "    accuracy = accuracy_score(y_test, predictions)\n",
    "    evaluate_predictions(y_test, predictions)\n",
    "    return accuracy"
   ]
  },
  {
   "cell_type": "code",
   "execution_count": null,
   "id": "e1708126-026e-4ace-ab20-69e21049d883",
   "metadata": {},
   "outputs": [],
   "source": [
    "def model_pipeline(file_path, target_column = \"target\"):\n",
    "    X, y = load_data(file_path, target_column) \n",
    "    X_train, X_test, y_train, y_test = train_test_split(X, y, test_size=0.2, random_state=42)\n",
    "    X_train_scaled, X_test_scaled = preprocess_data(X_train, X_test)\n",
    "    \n",
    "    print(\"Training and Evaluating Models:\\n\")\n",
    "\n",
    "    print(\"\\nLogistic Regression:\")\n",
    "    train_logistic_regression(X_train_scaled, y_train, X_test_scaled, y_test)\n",
    "    \n",
    "    print(\"\\nDecision Tree:\")\n",
    "    train_decision_tree(X_train_scaled, y_train, X_test_scaled, y_test)\n",
    "    \n",
    "    print(\"\\nKNN:\")\n",
    "    train_knn(X_train_scaled, y_train, X_test_scaled, y_test)\n",
    "    \n",
    "    print(\"\\nSVM:\")\n",
    "    train_svm(X_train_scaled, y_train, X_test_scaled, y_test)\n",
    "    \n",
    "    print(\"\\nKNN + SVM Ensemble:\")\n",
    "    train_knn_svm_ensemble(X_train_scaled, y_train, X_test_scaled, y_test)\n",
    "    \n",
    "    print(\"\\nRandom Forest:\")\n",
    "    train_random_forest(X_train_scaled, y_train, X_test_scaled, y_test)\n",
    "    \n",
    "    print(\"\\nMLP:\")\n",
    "    train_mlp(X_train_scaled, y_train, X_test_scaled, y_test)"
   ]
  },
  {
   "cell_type": "code",
   "execution_count": null,
   "id": "873d2e25",
   "metadata": {},
   "outputs": [],
   "source": [
    "model_pipeline(\"expanded_dummy_stock_data.csv\")"
   ]
  }
 ],
 "metadata": {
  "kernelspec": {
   "display_name": "Python 3 (ipykernel)",
   "language": "python",
   "name": "python3"
  },
  "language_info": {
   "codemirror_mode": {
    "name": "ipython",
    "version": 3
   },
   "file_extension": ".py",
   "mimetype": "text/x-python",
   "name": "python",
   "nbconvert_exporter": "python",
   "pygments_lexer": "ipython3",
   "version": "3.12.7"
  }
 },
 "nbformat": 4,
 "nbformat_minor": 5
}
