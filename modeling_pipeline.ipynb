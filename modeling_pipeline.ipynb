{
 "cells": [
  {
   "cell_type": "code",
   "execution_count": 1,
   "id": "f32bcfdc-404a-4f20-a220-f5acc6e612ff",
   "metadata": {},
   "outputs": [],
   "source": [
    "import pandas as pd\n",
    "from sklearn.model_selection import train_test_split\n",
    "from sklearn.preprocessing import StandardScaler\n",
    "from sklearn.linear_model import LogisticRegression\n",
    "from sklearn.tree import DecisionTreeClassifier\n",
    "from sklearn.neighbors import KNeighborsClassifier\n",
    "from sklearn.metrics import accuracy_score, classification_report"
   ]
  },
  {
   "cell_type": "code",
   "execution_count": 20,
   "id": "ce4f7942-7092-431c-ba09-117f64efcf54",
   "metadata": {},
   "outputs": [],
   "source": [
    "# Prepare features (X) and target (y) from raw data.\n",
    "\n",
    "#     Args:\n",
    "#         data (DataFrame): The raw dataset as a Pandas DataFrame.\n",
    "#         target_column (str): The name of the target column.\n",
    "\n",
    "#     Returns:\n",
    "#         X (DataFrame): Features.\n",
    "#         y (Series): Target."
   ]
  },
  {
   "cell_type": "code",
   "execution_count": 2,
   "id": "0c88f711-7183-4dac-b406-3eb644612663",
   "metadata": {},
   "outputs": [],
   "source": [
    "def load_data(file_path, target_column=\"target\"):\n",
    "    data = pd.read_csv(file_path)  # Use file_path to read the dataset\n",
    "    X = data.drop(columns=[target_column])\n",
    "    y = data[target_column]\n",
    "    return X, y"
   ]
  },
  {
   "cell_type": "code",
   "execution_count": 22,
   "id": "840a6322-a023-47e1-bf7b-8ccb900b5550",
   "metadata": {},
   "outputs": [],
   "source": [
    "# Scale features using StandardScaler.\n",
    "#     Args:\n",
    "#         X_train (DataFrame): Training features.\n",
    "#         X_test (DataFrame): Testing features.\n",
    "\n",
    "#     Returns:\n",
    "#         X_train_scaled (DataFrame): Scaled training features.\n",
    "#         X_test_scaled (DataFrame): Scaled testing features.\n",
    "#     \"\"\""
   ]
  },
  {
   "cell_type": "code",
   "execution_count": 3,
   "id": "7e229133-cbd1-4328-b0b7-2a04738def2e",
   "metadata": {},
   "outputs": [],
   "source": [
    "def preprocess_data(X_train, X_test):\n",
    "    scaler = StandardScaler()\n",
    "    X_train_scaled = scaler.fit_transform(X_train)\n",
    "    X_test_scaled = scaler.transform(X_test)\n",
    "    return X_train_scaled, X_test_scaled"
   ]
  },
  {
   "cell_type": "code",
   "execution_count": 24,
   "id": "49221266-3b71-47b8-935d-6654da68154c",
   "metadata": {},
   "outputs": [],
   "source": [
    "# Train and evaluate a Logistic Regression model."
   ]
  },
  {
   "cell_type": "code",
   "execution_count": 4,
   "id": "f67726a2-3cf6-403d-a971-e1971ac759ae",
   "metadata": {},
   "outputs": [],
   "source": [
    "def train_logistic_regression(X_train, y_train, X_test, y_test):\n",
    "    lr = LogisticRegression()\n",
    "    lr.fit(X_train, y_train)\n",
    "    predictions = lr.predict(X_test)\n",
    "    accuracy = accuracy_score(y_test, predictions)\n",
    "    print(\"Logistic Regression Accuracy:\", accuracy)\n",
    "    print(classification_report(y_test, predictions))\n",
    "    return accuracy"
   ]
  },
  {
   "cell_type": "code",
   "execution_count": 26,
   "id": "75f2d888-cfdc-4e34-921c-03e46f1004d0",
   "metadata": {},
   "outputs": [],
   "source": [
    "# Train and evaluate a Decision Tree model."
   ]
  },
  {
   "cell_type": "code",
   "execution_count": 5,
   "id": "ae8eb304-0c64-401a-970e-f7d08d18f926",
   "metadata": {},
   "outputs": [],
   "source": [
    "def train_decision_tree(X_train, y_train, X_test, y_test):\n",
    "    dt = DecisionTreeClassifier(random_state=42)\n",
    "    dt.fit(X_train, y_train)\n",
    "    predictions = dt.predict(X_test)\n",
    "    accuracy = accuracy_score(y_test, predictions)\n",
    "    print(\"Decision Tree Accuracy:\", accuracy)\n",
    "    print(classification_report(y_test, predictions))\n",
    "    return accuracy"
   ]
  },
  {
   "cell_type": "code",
   "execution_count": 28,
   "id": "5e9038fa-588b-4e62-98d4-3a13ea8297f2",
   "metadata": {},
   "outputs": [],
   "source": [
    "# Train and evaluate a K-Nearest Neighbors (KNN) model."
   ]
  },
  {
   "cell_type": "code",
   "execution_count": 6,
   "id": "6ad92c00-bd63-4152-8097-a1371fee7c5f",
   "metadata": {},
   "outputs": [],
   "source": [
    "def train_knn(X_train, y_train, X_test, y_test):\n",
    "    n_neighbors = min(5, len(X_train))\n",
    "    knn = KNeighborsClassifier(n_neighbors=n_neighbors)\n",
    "    knn.fit(X_train, y_train)\n",
    "    predictions = knn.predict(X_test)\n",
    "    accuracy = accuracy_score(y_test, predictions)\n",
    "    print(\"KNN Accuracy:\", accuracy)\n",
    "    print(classification_report(y_test, predictions, zero_division=0))\n",
    "    return accuracy\n"
   ]
  },
  {
   "cell_type": "code",
   "execution_count": 16,
   "id": "9e5423a7-58a4-4e75-8e1d-dfa24525036e",
   "metadata": {},
   "outputs": [],
   "source": [
    "def main_pipeline():\n",
    "\n",
    "    # Define the dataset file path\n",
    "    file_path = \"expanded_dummy_stock_data.csv\"  # Change this when using real data, this is just example\n",
    "\n",
    "    # Load data\n",
    "    X, y = load_data(file_path=file_path, target_column=\"target\")\n",
    "\n",
    "    # Split the data with stratification\n",
    "    X_train, X_test, y_train, y_test = train_test_split(\n",
    "        X, y, test_size=0.2, random_state=42, stratify=y\n",
    "    )\n",
    "\n",
    "    # Preprocess the data\n",
    "    X_train, X_test = preprocess_data(X_train, X_test)\n",
    "\n",
    "    # Train and evaluate models\n",
    "    print(\"\\n--- Logistic Regression ---\")\n",
    "    train_logistic_regression(X_train, y_train, X_test, y_test)\n",
    "\n",
    "    print(\"\\n--- Decision Tree ---\")\n",
    "    train_decision_tree(X_train, y_train, X_test, y_test)\n",
    "\n",
    "    print(\"\\n--- KNN ---\")\n",
    "    train_knn(X_train, y_train, X_test, y_test)\n"
   ]
  },
  {
   "cell_type": "code",
   "execution_count": 17,
   "id": "f6205d45-3e62-46d2-a112-523b330a90e8",
   "metadata": {},
   "outputs": [
    {
     "name": "stdout",
     "output_type": "stream",
     "text": [
      "\n",
      "--- Logistic Regression ---\n",
      "Logistic Regression Accuracy: 0.5\n",
      "              precision    recall  f1-score   support\n",
      "\n",
      "           0       0.00      0.00      0.00         2\n",
      "           1       0.50      1.00      0.67         2\n",
      "\n",
      "    accuracy                           0.50         4\n",
      "   macro avg       0.25      0.50      0.33         4\n",
      "weighted avg       0.25      0.50      0.33         4\n",
      "\n",
      "\n",
      "--- Decision Tree ---\n",
      "Decision Tree Accuracy: 0.5\n",
      "              precision    recall  f1-score   support\n",
      "\n",
      "           0       0.00      0.00      0.00         2\n",
      "           1       0.50      1.00      0.67         2\n",
      "\n",
      "    accuracy                           0.50         4\n",
      "   macro avg       0.25      0.50      0.33         4\n",
      "weighted avg       0.25      0.50      0.33         4\n",
      "\n",
      "\n",
      "--- KNN ---\n",
      "KNN Accuracy: 0.75\n",
      "              precision    recall  f1-score   support\n",
      "\n",
      "           0       1.00      0.50      0.67         2\n",
      "           1       0.67      1.00      0.80         2\n",
      "\n",
      "    accuracy                           0.75         4\n",
      "   macro avg       0.83      0.75      0.73         4\n",
      "weighted avg       0.83      0.75      0.73         4\n",
      "\n"
     ]
    },
    {
     "name": "stderr",
     "output_type": "stream",
     "text": [
      "/opt/anaconda3/lib/python3.12/site-packages/sklearn/metrics/_classification.py:1509: UndefinedMetricWarning: Precision is ill-defined and being set to 0.0 in labels with no predicted samples. Use `zero_division` parameter to control this behavior.\n",
      "  _warn_prf(average, modifier, f\"{metric.capitalize()} is\", len(result))\n",
      "/opt/anaconda3/lib/python3.12/site-packages/sklearn/metrics/_classification.py:1509: UndefinedMetricWarning: Precision is ill-defined and being set to 0.0 in labels with no predicted samples. Use `zero_division` parameter to control this behavior.\n",
      "  _warn_prf(average, modifier, f\"{metric.capitalize()} is\", len(result))\n",
      "/opt/anaconda3/lib/python3.12/site-packages/sklearn/metrics/_classification.py:1509: UndefinedMetricWarning: Precision is ill-defined and being set to 0.0 in labels with no predicted samples. Use `zero_division` parameter to control this behavior.\n",
      "  _warn_prf(average, modifier, f\"{metric.capitalize()} is\", len(result))\n",
      "/opt/anaconda3/lib/python3.12/site-packages/sklearn/metrics/_classification.py:1509: UndefinedMetricWarning: Precision is ill-defined and being set to 0.0 in labels with no predicted samples. Use `zero_division` parameter to control this behavior.\n",
      "  _warn_prf(average, modifier, f\"{metric.capitalize()} is\", len(result))\n",
      "/opt/anaconda3/lib/python3.12/site-packages/sklearn/metrics/_classification.py:1509: UndefinedMetricWarning: Precision is ill-defined and being set to 0.0 in labels with no predicted samples. Use `zero_division` parameter to control this behavior.\n",
      "  _warn_prf(average, modifier, f\"{metric.capitalize()} is\", len(result))\n",
      "/opt/anaconda3/lib/python3.12/site-packages/sklearn/metrics/_classification.py:1509: UndefinedMetricWarning: Precision is ill-defined and being set to 0.0 in labels with no predicted samples. Use `zero_division` parameter to control this behavior.\n",
      "  _warn_prf(average, modifier, f\"{metric.capitalize()} is\", len(result))\n"
     ]
    }
   ],
   "source": [
    "main_pipeline()"
   ]
  },
  {
   "cell_type": "code",
   "execution_count": null,
   "id": "e1708126-026e-4ace-ab20-69e21049d883",
   "metadata": {},
   "outputs": [],
   "source": []
  }
 ],
 "metadata": {
  "kernelspec": {
   "display_name": "Python 3 (ipykernel)",
   "language": "python",
   "name": "python3"
  },
  "language_info": {
   "codemirror_mode": {
    "name": "ipython",
    "version": 3
   },
   "file_extension": ".py",
   "mimetype": "text/x-python",
   "name": "python",
   "nbconvert_exporter": "python",
   "pygments_lexer": "ipython3",
   "version": "3.12.4"
  }
 },
 "nbformat": 4,
 "nbformat_minor": 5
}
