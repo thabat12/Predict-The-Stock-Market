{
 "cells": [
  {
   "cell_type": "code",
   "execution_count": null,
   "id": "12fba495",
   "metadata": {},
   "outputs": [],
   "source": []
  },
  {
   "cell_type": "code",
   "execution_count": null,
   "id": "d33cd5bb",
   "metadata": {},
   "outputs": [],
   "source": []
  },
  {
   "cell_type": "code",
   "execution_count": null,
   "id": "8ca0d455",
   "metadata": {},
   "outputs": [],
   "source": []
  },
  {
   "cell_type": "code",
   "execution_count": null,
   "id": "5c5ca064",
   "metadata": {},
   "outputs": [],
   "source": []
  },
  {
   "cell_type": "code",
   "execution_count": null,
   "id": "08f6564b",
   "metadata": {},
   "outputs": [],
   "source": []
  },
  {
   "cell_type": "code",
   "execution_count": null,
   "id": "d741e446",
   "metadata": {},
   "outputs": [],
   "source": []
  },
  {
   "cell_type": "code",
   "execution_count": null,
   "id": "96182645",
   "metadata": {},
   "outputs": [],
   "source": []
  },
  {
   "cell_type": "code",
   "execution_count": null,
   "id": "729fc84b",
   "metadata": {},
   "outputs": [],
   "source": []
  },
  {
   "cell_type": "code",
   "execution_count": null,
   "id": "f32bcfdc-404a-4f20-a220-f5acc6e612ff",
   "metadata": {},
   "outputs": [],
   "source": [
    "import pandas as pd\n",
    "from sklearn.model_selection import train_test_split\n",
    "from sklearn.preprocessing import StandardScaler\n",
    "from sklearn.linear_model import LogisticRegression\n",
    "from sklearn.tree import DecisionTreeClassifier\n",
    "from sklearn.neighbors import KNeighborsClassifier\n",
    "from sklearn.metrics import accuracy_score, classification_report\n",
    "from sklearn.model_selection import GridSearchCV"
   ]
  },
  {
   "cell_type": "code",
   "execution_count": 20,
   "id": "ce4f7942-7092-431c-ba09-117f64efcf54",
   "metadata": {},
   "outputs": [],
   "source": [
    "# Prepare features (X) and target (y) from raw data.\n",
    "\n",
    "#     Args:\n",
    "#         data (DataFrame): The raw dataset as a Pandas DataFrame.\n",
    "#         target_column (str): The name of the target column.\n",
    "\n",
    "#     Returns:\n",
    "#         X (DataFrame): Features.\n",
    "#         y (Series): Target."
   ]
  },
  {
   "cell_type": "code",
   "execution_count": 2,
   "id": "0c88f711-7183-4dac-b406-3eb644612663",
   "metadata": {},
   "outputs": [],
   "source": [
    "def load_data(file_path, target_column=\"target\"):\n",
    "    data = pd.read_csv(file_path)  # Use file_path to read the dataset\n",
    "    X = data.drop(columns=[target_column])\n",
    "    y = data[target_column]\n",
    "    return X, y"
   ]
  },
  {
   "cell_type": "code",
   "execution_count": 22,
   "id": "840a6322-a023-47e1-bf7b-8ccb900b5550",
   "metadata": {},
   "outputs": [],
   "source": [
    "# Scale features using StandardScaler.\n",
    "#     Args:\n",
    "#         X_train (DataFrame): Training features.\n",
    "#         X_test (DataFrame): Testing features.\n",
    "\n",
    "#     Returns:\n",
    "#         X_train_scaled (DataFrame): Scaled training features.\n",
    "#         X_test_scaled (DataFrame): Scaled testing features.\n",
    "#     \"\"\""
   ]
  },
  {
   "cell_type": "code",
   "execution_count": 3,
   "id": "7e229133-cbd1-4328-b0b7-2a04738def2e",
   "metadata": {},
   "outputs": [],
   "source": [
    "def preprocess_data(X_train, X_test):\n",
    "    scaler = StandardScaler()\n",
    "    X_train_scaled = scaler.fit_transform(X_train)\n",
    "    X_test_scaled = scaler.transform(X_test)\n",
    "    return X_train_scaled, X_test_scaled"
   ]
  },
  {
   "cell_type": "code",
   "execution_count": 24,
   "id": "49221266-3b71-47b8-935d-6654da68154c",
   "metadata": {},
   "outputs": [],
   "source": [
    "# Train and evaluate a Logistic Regression model."
   ]
  },
  {
   "cell_type": "code",
   "execution_count": 4,
   "id": "f67726a2-3cf6-403d-a971-e1971ac759ae",
   "metadata": {},
   "outputs": [],
   "source": [
    "def train_logistic_regression(X_train, y_train, X_test, y_test):\n",
    "    lr = LogisticRegression()\n",
    "    lr.fit(X_train, y_train)\n",
    "    predictions = lr.predict(X_test)\n",
    "    accuracy = accuracy_score(y_test, predictions)\n",
    "    print(\"Logistic Regression Accuracy:\", accuracy)\n",
    "    print(classification_report(y_test, predictions))\n",
    "    return accuracy"
   ]
  },
  {
   "cell_type": "code",
   "execution_count": 26,
   "id": "75f2d888-cfdc-4e34-921c-03e46f1004d0",
   "metadata": {},
   "outputs": [],
   "source": [
    "# Train and evaluate a Decision Tree model."
   ]
  },
  {
   "cell_type": "code",
   "execution_count": 5,
   "id": "ae8eb304-0c64-401a-970e-f7d08d18f926",
   "metadata": {},
   "outputs": [],
   "source": [
    "def train_decision_tree(X_train, y_train, X_test, y_test):\n",
    "    dt = DecisionTreeClassifier(random_state=42)\n",
    "    dt.fit(X_train, y_train)\n",
    "    predictions = dt.predict(X_test)\n",
    "    accuracy = accuracy_score(y_test, predictions)\n",
    "    print(\"Decision Tree Accuracy:\", accuracy)\n",
    "    print(classification_report(y_test, predictions))\n",
    "    return accuracy"
   ]
  },
  {
   "cell_type": "code",
   "execution_count": null,
   "id": "5e9038fa-588b-4e62-98d4-3a13ea8297f2",
   "metadata": {},
   "outputs": [],
   "source": [
    "# Train and evaluate a K-Nearest Neighbors (KNN) model. \n",
    "# Enhanced by using Grid Search CV to choose the best K value."
   ]
  },
  {
   "cell_type": "code",
   "execution_count": null,
   "id": "6ad92c00-bd63-4152-8097-a1371fee7c5f",
   "metadata": {},
   "outputs": [],
   "source": [
    "def train_knn(X_train, y_train, X_test, y_test):\n",
    "    n_neighbors = min(5, len(X_train))\n",
    "    knn = KNeighborsClassifier(n_neighbors=n_neighbors)\n",
    "    \n",
    "    param_grid = {\n",
    "        'n_neighbors': range(1, min(10, len(X_train)) + 1),\n",
    "        'weights': ['uniform', 'distance'],\n",
    "        'metric': ['euclidean']\n",
    "    }\n",
    "    grid_search = GridSearchCV(estimator=knn, param_grid=param_grid, cv=5, scoring='accuracy', verbose=1)\n",
    "    grid_search.fit(X_train, y_train)\n",
    "    best_knn = grid_search.best_estimator_\n",
    "    print(\"Best Parameters:\", grid_search.best_params_)\n",
    "\n",
    "    predictions = best_knn.predict(X_test)\n",
    "    accuracy = accuracy_score(y_test, predictions)\n",
    "    print(\"KNN Accuracy:\", accuracy)\n",
    "    print(classification_report(y_test, predictions, zero_division=0))\n",
    "    return accuracy\n"
   ]
  },
  {
   "cell_type": "code",
   "execution_count": null,
   "id": "e1708126-026e-4ace-ab20-69e21049d883",
   "metadata": {},
   "outputs": [],
   "source": [
    "# Use ensemble to stack knn and svm\n",
    "# add precision and recall and other checks\n",
    "\n",
    "# look at assignments, add models and other things, enhance!!!"
   ]
  }
 ],
 "metadata": {
  "kernelspec": {
   "display_name": "Python 3 (ipykernel)",
   "language": "python",
   "name": "python3"
  },
  "language_info": {
   "codemirror_mode": {
    "name": "ipython",
    "version": 3
   },
   "file_extension": ".py",
   "mimetype": "text/x-python",
   "name": "python",
   "nbconvert_exporter": "python",
   "pygments_lexer": "ipython3",
   "version": "3.12.4"
  }
 },
 "nbformat": 4,
 "nbformat_minor": 5
}
